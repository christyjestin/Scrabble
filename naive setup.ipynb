{
 "cells": [
  {
   "cell_type": "code",
   "execution_count": 1,
   "metadata": {},
   "outputs": [],
   "source": [
    "%matplotlib notebook\n",
    "from pathlib import Path\n",
    "import pickle\n",
    "from random import shuffle\n",
    "import numpy as np\n",
    "from collections import defaultdict"
   ]
  },
  {
   "cell_type": "code",
   "execution_count": 2,
   "metadata": {},
   "outputs": [],
   "source": [
    "with open(\"words.txt\",'r') as read_file:\n",
    "    words = read_file.readlines()\n",
    "    \n",
    "for i in range(len(words)):\n",
    "    words[i] = words[i].strip('\\n')\n",
    "\n",
    "with open('words.pkl', 'wb') as handle:\n",
    "    pickle.dump(words, handle, protocol=pickle.HIGHEST_PROTOCOL)"
   ]
  },
  {
   "cell_type": "code",
   "execution_count": 2,
   "metadata": {},
   "outputs": [],
   "source": [
    "with open('words.pkl', 'rb') as handle:\n",
    "    words = pickle.load(handle)"
   ]
  },
  {
   "cell_type": "code",
   "execution_count": 3,
   "metadata": {},
   "outputs": [],
   "source": [
    "# 2 blank tiles (scoring 0 points)\n",
    "# 1 point: E ×12, A ×9, I ×9, O ×8, N ×6, R ×6, T ×6, L ×4, S ×4, U ×4\n",
    "# 2 points: D ×4, G ×3\n",
    "# 3 points: B ×2, C ×2, M ×2, P ×2\n",
    "# 4 points: F ×2, H ×2, V ×2, W ×2, Y ×2\n",
    "# 5 points: K ×1\n",
    "# 8 points: J ×1, X ×1\n",
    "# 10 points: Q ×1, Z ×1\n",
    "scores = dict()\n",
    "for i in ['A','E','I','O','N','R','T','L','S','U']:\n",
    "    scores[i] = 1\n",
    "for i in ['D','G']:\n",
    "    scores[i] = 2\n",
    "for i in ['B','C','M','P']:\n",
    "    scores[i] = 3\n",
    "for i in ['F','H','V','W','Y']:\n",
    "    scores[i] = 4\n",
    "for i in ['K']:\n",
    "    scores[i] = 5\n",
    "for i in ['J','X']:\n",
    "    scores[i] = 8\n",
    "for i in ['Q','Z']:\n",
    "    scores[i] = 10\n",
    "# for i in ['blank']:\n",
    "#     scores[i] = 0\n",
    "distributions = dict()\n",
    "for i in ['N','R','T']:\n",
    "    distributions[i] = 6\n",
    "for i in ['L','S','U','D']:\n",
    "    distributions[i] = 4\n",
    "for i in ['G']:\n",
    "    distributions[i] = 3\n",
    "#removed blanks, would be 2\n",
    "for i in ['B','C','M','P','F','H','V','W','Y']:\n",
    "    distributions[i] = 2\n",
    "for i in ['Q','Z','J','X','K']:\n",
    "    distributions[i] = 1\n",
    "for i in ['E']:\n",
    "    distributions[i] = 12\n",
    "#should be 9, added one each from blanks\n",
    "for i in ['A','I']:\n",
    "    distributions[i] = 10\n",
    "for i in ['O']:\n",
    "    distributions[i] = 8"
   ]
  },
  {
   "cell_type": "code",
   "execution_count": 4,
   "metadata": {},
   "outputs": [],
   "source": [
    "board_array = np.zeros((15,15))\n",
    "for i in (0,7,14):\n",
    "    for j in (0,7,14):\n",
    "        board_array[i,j] = 3000\n",
    "for i in range(1,5):\n",
    "    board_array[i,i] = 2000\n",
    "for i in range(10,14):\n",
    "    board_array[i,i] = 2000\n",
    "for i in (5,9):\n",
    "    board_array[i,i] = 300\n",
    "for i in (3,11):\n",
    "    for j in (0,14):\n",
    "        board_array[i,j] = 200\n",
    "        board_array[j,i] = 200\n",
    "for i in range(1,5):\n",
    "    board_array[i,14-i] = 2000\n",
    "for i in range(1,5):\n",
    "    board_array[14-i,i] = 2000\n",
    "for i in range(10,14):\n",
    "    board_array[i,i] = 2000\n",
    "#should be 300 for triple letter\n",
    "for i in (1,5,9,13):\n",
    "    for j in (5,9):\n",
    "        board_array[i,j] = 300\n",
    "        board_array[j,i] = 300\n",
    "board_array[7,7] = 0\n",
    "for i in (6,8):\n",
    "    for j in (6,8):\n",
    "        board_array[i,j] = 200\n",
    "for i in (2,6,8,12):\n",
    "    for j in (6,8):\n",
    "        board_array[i,j] = 200\n",
    "        board_array[j,i] = 200\n",
    "for j in (3,11):\n",
    "        board_array[7,j] = 200\n",
    "        board_array[j,7] = 200\n",
    "board_array.astype(np.int)\n",
    "np.save('board', board_array)"
   ]
  },
  {
   "cell_type": "code",
   "execution_count": 5,
   "metadata": {},
   "outputs": [],
   "source": [
    "class Tile:\n",
    "    def __init__(self, letter, score, id):\n",
    "        self.score = score\n",
    "        self.letter = letter\n",
    "        self.id = id\n",
    "    def __repr__(self):\n",
    "        return '(' + str(self.letter) + ' : ' + str(self.score) + ')'"
   ]
  },
  {
   "cell_type": "code",
   "execution_count": 6,
   "metadata": {},
   "outputs": [],
   "source": [
    "class Player:\n",
    "    def __init__(self, name, position):\n",
    "        self.name = name\n",
    "        self.score = 0\n",
    "        self.position = position\n",
    "        self.rack = list()\n",
    "        \n",
    "    def __repr__(self):\n",
    "        return '(' + str(self.position) + ', ' + str(self.name) + ', score: ' + str(self.score) + ')' \n",
    "    \n",
    "    def draw(self, tiles, board):\n",
    "        for tile in tiles:\n",
    "            self.rack.remove(tile)\n",
    "        board.pool.extend(tiles)\n",
    "        shuffle(board.pool)\n",
    "        self.refill(board)\n",
    "    \n",
    "    def refill(self, board):\n",
    "        while len(self.rack)<7:\n",
    "            if board.pool:\n",
    "                self.rack.append(board.pool[0])\n",
    "                board.pool.pop(0)\n",
    "                \n",
    "    def show_rack(self):\n",
    "        print(self.rack)"
   ]
  },
  {
   "cell_type": "code",
   "execution_count": 7,
   "metadata": {},
   "outputs": [],
   "source": [
    "class Board:\n",
    "    def __init__(self, num_players):\n",
    "        self.num_players = num_players\n",
    "        self.pool = list()\n",
    "        self.id_dict = dict()\n",
    "        id = 1\n",
    "        for key in distributions:\n",
    "            for i in range(distributions[key]):\n",
    "                self.pool.append(Tile(key, scores[key],id))\n",
    "                shuffle(self.pool)\n",
    "                self.id_dict[id] = Tile(key, scores[key],id)\n",
    "                id+=1\n",
    "        for id in board_values:\n",
    "            self.id_dict[id]= Tile('open',-1,id)\n",
    "        self.players = dict()\n",
    "        for i in range(1, num_players+1):\n",
    "            name = input('What is Player '+str(i)+\"'s name?\\n\")\n",
    "            self.players[name] = Player(name,i)\n",
    "        self.board = np.load('board.npy')\n",
    "        self.board_positions = list()\n",
    "        self.board_positions.append((7,7))\n",
    "        \n",
    "    #def show_board(self):"
   ]
  },
  {
   "cell_type": "code",
   "execution_count": 8,
   "metadata": {},
   "outputs": [],
   "source": [
    "def show_board(show_board):\n",
    "    fig, ax = plt.subplots()\n",
    "    for i in range(15):\n",
    "        for j in range(15):\n",
    "            plt.text(j*10,i*10,show_board.id_dict[show.board[i,j]].letter)"
   ]
  },
  {
   "cell_type": "code",
   "execution_count": 9,
   "metadata": {},
   "outputs": [],
   "source": [
    "from collections import defaultdict\n",
    "word_lengths = defaultdict(set)\n",
    "true_lengths = defaultdict(set)\n",
    "reverse_word_lengths = defaultdict(set)\n",
    "reverse_true_lengths = defaultdict(set)\n",
    "for word in words:\n",
    "    for length in range(1,22):\n",
    "        if len(word)>=length:\n",
    "            word_lengths[length].add(word[:length])\n",
    "        if len(word)==length:\n",
    "            true_lengths[length].add(word)\n",
    "        if len(word)>=length:\n",
    "            reverse_word_lengths[length].add(word[::-1][:length])\n",
    "        if len(word)==length:\n",
    "            reverse_true_lengths[length].add(word[::-1])"
   ]
  },
  {
   "cell_type": "code",
   "execution_count": 10,
   "metadata": {},
   "outputs": [],
   "source": [
    "directions_dict = dict()\n",
    "def step_left(i,j):\n",
    "    return (i,j-1)\n",
    "def step_down(i,j):\n",
    "    return (i+1,j)\n",
    "def step_right(i,j):\n",
    "    return (i,j+1)\n",
    "def step_up(i,j):\n",
    "    return (i-1,j)\n",
    "    \n",
    "def readcolumn(i,j):\n",
    "    return (-1,j,2)\n",
    "def readrow(i,j):\n",
    "    return (i,-1,1)\n",
    "directions_dict[0] = step_up\n",
    "directions_dict[1] = step_right\n",
    "directions_dict[2] = step_down\n",
    "directions_dict[3] = step_left\n",
    "reverse_dict = dict()\n",
    "reverse_dict[0] = 2\n",
    "reverse_dict[1] = 3\n",
    "reverse_dict[2] = 0\n",
    "reverse_dict[3] = 1\n",
    "perpen_dict = dict()\n",
    "perpen_dict[0] = readrow\n",
    "perpen_dict[1] = readcolumn\n",
    "perpen_dict[2] = readrow\n",
    "perpen_dict[3] = readcolumn"
   ]
  },
  {
   "cell_type": "code",
   "execution_count": 11,
   "metadata": {},
   "outputs": [],
   "source": [
    "board_values = [0,200,300,2000,3000]\n",
    "def find_openings(input_board):\n",
    "    positions = input_board.board_positions\n",
    "    openings = list()\n",
    "    for i,j in positions:\n",
    "        if input_board.board[i-1,j] in board_values:\n",
    "                    openings.append((i,j,0))\n",
    "        if input_board.board[i,j+1] in board_values:\n",
    "                    openings.append((i,j,1))\n",
    "        if input_board.board[i+1,j] in board_values:\n",
    "                    openings.append((i,j,2))\n",
    "        if input_board.board[i,j-1] in board_values:\n",
    "                    openings.append((i,j,3))\n",
    "    return openings"
   ]
  },
  {
   "cell_type": "code",
   "execution_count": 12,
   "metadata": {},
   "outputs": [],
   "source": [
    "def find_moves(find_board, openings, tiles):\n",
    "    moves = list()\n",
    "    for opening in openings:\n",
    "        i,j,d = opening\n",
    "        boardword = readback(find_board,opening)\n",
    "        boardword = readforward(find_board,opening)\n",
    "        if d==1 or d==2:\n",
    "            check = word_lengths\n",
    "            true_check = true_lengths\n",
    "        if d==0 or d==3:\n",
    "            check = reverse_word_lengths\n",
    "            true_check = reverse_true_lengths\n",
    "        stops = defaultdict(list)\n",
    "#         directions_dict[d](i,j)\n",
    "        add = list(tiles[0])\n",
    "        word_attempt = read_letters(boardword, forword, add)\n",
    "        while len(stops[[]])!=7:\n",
    "            if word_attempt not in check[len(word_attempt)]:\n",
    "                stem = add[:len(add)-1]\n",
    "                stop = add[-1]\n",
    "                stops[stem].append(stop)\n",
    "                while not find_different(tiles, stem, stops):\n",
    "                    stop = stem[-1]\n",
    "                    stem = stem[:len(stem)-1]\n",
    "                    stops[stem].append(stop)\n",
    "                add = find_different(tiles, stem, stops)\n",
    "                word_attempt = read_letters(boardword, forword, add)\n",
    "            else:\n",
    "                i,j,d = opening\n",
    "                for step in range(len(add)):\n",
    "                    i,j = direction_dict[d](i,j)\n",
    "                    if i not in range(0,15) or j not in range(0,15):\n",
    "                        i,j = direction_dict[reverse_dict[d]](i,j)\n",
    "                        break\n",
    "                    full = readforward(find_board,perpen_dict[d](i,j))\n",
    "                    words_in_path = ''.join(full).split()\n",
    "                    block = 0\n",
    "                    for word in words_in_path:\n",
    "                        if len(word)>1 and word not in true_lengths[len(word)]:\n",
    "                            block = 1\n",
    "                    if block:\n",
    "                        stem = add[:len(add)-1]\n",
    "                        stop = add[-1]\n",
    "                        stops[stem].append(stop)\n",
    "                        while not find_different(tiles, stem, stops):\n",
    "                            stop = stem[-1]\n",
    "                            stem = stem[:len(stem)-1]\n",
    "                            stops[stem].append(stop)\n",
    "                        add = find_different(tiles, stem, stops)\n",
    "                        word_attempt = read_letters(boardword, forword, add)\n",
    "                else:\n",
    "                    if word_attempt in true_check[len(word_attempt)]:\n",
    "                        moves.append((opening, add))\n",
    "                    while not add_letter(tiles, stem, stops):\n",
    "                        stop = stem[-1]\n",
    "                        stem = stem[:len(stem)-1]\n",
    "                        stops[stem].append(stop)\n",
    "                    add = add_letter(tiles, stem, stops)\n",
    "                    word_attempt = read_letters(boardword, forword, add)\n",
    "    return moves"
   ]
  },
  {
   "cell_type": "code",
   "execution_count": 13,
   "metadata": {},
   "outputs": [],
   "source": [
    "def add_letter(tiles, stem, stops):\n",
    "    poss = tiles.copy()\n",
    "    for i in stem:\n",
    "        poss.remove(i)\n",
    "    for i in stops[stem]:\n",
    "        poss.remove(i)\n",
    "    if poss:\n",
    "        stem.append(poss[0])\n",
    "        return stem\n",
    "    else:\n",
    "        return False\n",
    "def find_different(tiles, stem, stops):\n",
    "    poss = tiles.copy()\n",
    "    for i in stem:\n",
    "        poss.remove(i)\n",
    "    for i in stops[stem]:\n",
    "        poss.remove(i)\n",
    "    if poss:\n",
    "        stem.append(poss[0])\n",
    "        return stem\n",
    "    else:\n",
    "        return False"
   ]
  },
  {
   "cell_type": "code",
   "execution_count": 14,
   "metadata": {},
   "outputs": [],
   "source": [
    "def find_letters(player):\n",
    "    tile_letters = list()\n",
    "    for tile in player.rack:\n",
    "        tile_letters.append(tile.letter)\n",
    "    return tile_letters\n",
    "def readback(read_board, opening):\n",
    "    i,j,d = opening\n",
    "    m,n = i,j\n",
    "    readword = list()\n",
    "    p = directions_dict[reverse_dict[d]]\n",
    "    while read_board.board[i,j] not in board_values:\n",
    "        readword.append(read_board.id_dict[read_board[i,j]].letter)\n",
    "        i,j = p(i,j)\n",
    "        if i not in range(0,15) or j not in range(0,15):\n",
    "            break\n",
    "    boardword  = \"\".join(readword[::-1])\n",
    "    return boardword\n",
    "def readforward(read_board, opening):\n",
    "    i,j,d = opening\n",
    "    readword = list()\n",
    "    i,j = directions_dict[d](i,j)\n",
    "    while i in range(0,15) and j in range(0,15):\n",
    "        readword.append(read_board.id_dict[read_board[i,j]].letter)\n",
    "        i,j = directions_dict[d](i,j)\n",
    "    return forword"
   ]
  },
  {
   "cell_type": "code",
   "execution_count": 15,
   "metadata": {},
   "outputs": [],
   "source": [
    "def read_letters(boardword,forword, tiles):\n",
    "    for i in range(len(tiles)):\n",
    "        tiles[i] = tiles[i].letter\n",
    "    i = 0\n",
    "    attempt = list()\n",
    "    while tiles:\n",
    "        if forword[i]!=' ':\n",
    "            attempt.append(forword[i])\n",
    "        else:\n",
    "            attempt.append(tiles[0])\n",
    "            tiles.pop(0)\n",
    "        i+=1\n",
    "    word_attempt = boardword + ''.join(attempt)\n",
    "    return word_attempt"
   ]
  },
  {
   "cell_type": "code",
   "execution_count": 16,
   "metadata": {},
   "outputs": [],
   "source": [
    "def check_border(add_board, opening, length):\n",
    "    m,n,direction = opening\n",
    "    while length:\n",
    "        m,n = directions_dict[direction](m,n)\n",
    "        n = add_board.board[m,n]\n",
    "        if n in board_values:\n",
    "            length-=1\n",
    "    if m not in range(0,15) or n not in range(0,15):\n",
    "        return 1"
   ]
  },
  {
   "cell_type": "code",
   "execution_count": 17,
   "metadata": {},
   "outputs": [],
   "source": [
    "def add_word(player, add_board, opening, tiles_indices):\n",
    "    '''\n",
    "    input player as string, sp as tuple, direction as 0, 1, 2, 3, tiles as list of indices for tile objects in rack list\n",
    "    '''\n",
    "    if check_border(add_board,opening,len(tiles_indices))==1:\n",
    "        return 'You\\'re trying to play a tile outside the board!'\n",
    "    tiles = list()\n",
    "    for i in range(len(tiles_indices)):\n",
    "        tiles.append(add_board.players[player].rack[tiles_indices[i]])\n",
    "    for i in tiles:\n",
    "        add_board.players[player].rack.remove(i)\n",
    "    bingo = 0 \n",
    "    if len(tiles)==7:    bingo = 50\n",
    "    score = 0\n",
    "    score_multiply = 1\n",
    "    i,j,direction = opening\n",
    "    p = directions_dict[reverse_dict[direction]]\n",
    "    while read_board.board[i,j] not in board_values:\n",
    "        i,j = p(i,j)\n",
    "        if i not in range(0,15) or j not in range(0,15):\n",
    "            break\n",
    "    i,j = directions_dict[direction](i,j)\n",
    "    while tiles:\n",
    "        n = add_board.board[i,j]\n",
    "        if n not in board_values:\n",
    "            score+=add_board.id_dict[n].score\n",
    "        else:\n",
    "            if n == 0:\n",
    "                score+=tiles[0].score\n",
    "            if n == 2000:\n",
    "                score+=tiles[0].score\n",
    "                score_multiply *= 2\n",
    "            if n == 3000:\n",
    "                score+=tiles[0].score\n",
    "                score_multiply *= 3\n",
    "            if n == 200:\n",
    "                score+=tiles[0].score*2\n",
    "            if n == 300:\n",
    "                score+=tiles[0].score*3\n",
    "            add_board.board_positions.append((i,j))\n",
    "            add_board.board[i,j] = tiles[0].id\n",
    "            tiles.pop(0)\n",
    "        i,j = directions_dict[direction](i,j)\n",
    "        \n",
    "    \n",
    "    score*=score_multiply\n",
    "    score+=bingo\n",
    "    add_board.players[player].score += score\n",
    "    add_board.players[player].refill(add_board)"
   ]
  },
  {
   "cell_type": "code",
   "execution_count": 18,
   "metadata": {},
   "outputs": [],
   "source": [
    "\n",
    "def calc_word(player, add_board, opening, tiles_indices):\n",
    "    '''\n",
    "    input player as string, sp as tuple, direction as 0, 1, 2, 3, tiles as list of indices for tile objects in rack list\n",
    "    '''\n",
    "    if check_border(add_board,opening,len(tiles_indices))==1:\n",
    "        return None\n",
    "    tiles = list()\n",
    "    for i in range(len(tiles_indices)):\n",
    "        tiles.append(add_board.players[player].rack[tiles_indices[i]])\n",
    "    bingo = 0 \n",
    "    if len(tiles)==7:    bingo = 50\n",
    "    score = 0\n",
    "    score_multiply = 1\n",
    "    i,j,direction = opening\n",
    "    p = directions_dict[reverse_dict[direction]]\n",
    "    while read_board.board[i,j] not in board_values:\n",
    "        i,j = p(i,j)\n",
    "        if i not in range(0,15) or j not in range(0,15):\n",
    "            break\n",
    "    i,j = directions_dict[direction](i,j)\n",
    "    while tiles:\n",
    "        n = add_board.board[i,j]\n",
    "        if n not in board_values:\n",
    "            score+=add_board.id_dict[n].score\n",
    "        else:\n",
    "            if n == 0:\n",
    "                score+=tiles[0].score\n",
    "            if n == 2000:\n",
    "                score+=tiles[0].score\n",
    "                score_multiply *= 2\n",
    "            if n == 3000:\n",
    "                score+=tiles[0].score\n",
    "                score_multiply *= 3\n",
    "            if n == 200:\n",
    "                score+=tiles[0].score*2\n",
    "            if n == 300:\n",
    "                score+=tiles[0].score*3\n",
    "            tiles.pop(0)\n",
    "        i,j = directions_dict[direction](i,j)\n",
    "    \n",
    "    score*=score_multiply\n",
    "    score+=bingo\n",
    "    return score"
   ]
  },
  {
   "cell_type": "code",
   "execution_count": 19,
   "metadata": {},
   "outputs": [],
   "source": [
    "def compmove(playerboard, player):\n",
    "    # some issue with referencing moves\n",
    "    surro = find_moves(playerboard,find_openings(playerboard),player.rack)\n",
    "    moves = surro\n",
    "    move_scores = np.zeros((len(moves)))\n",
    "    for i in range(len(moves)):\n",
    "        opening, add = moves[i]\n",
    "        tile_indices = list()\n",
    "        for tile in add:\n",
    "            tile_indices.append(player.rack.index(tile))\n",
    "        move_scores[i] = calc_word(player,playerboard,opening,tile_indices)\n",
    "    opt_opening, opt_add = moves[np.argmax(move_scores)]\n",
    "    opt_indices = list()\n",
    "    for tile in opt_add:\n",
    "            opt_indices.append(player.rack.index(tile))\n",
    "    add_word(player, playerboard, opt_opening, opt_indices)\n",
    "    show_board(playerboard)\n",
    "    \n",
    "def playermove(playerboard,player):\n",
    "    player.show_rack()\n",
    "    print('You must start at a tile ')\n",
    "    row = input('Which row would you like to start in? The rows are 1 to 15 from top to bottom: ')\n",
    "    col = input('Which column would you like to start in? The columns are 1 to 15 from left to right: ')\n",
    "    direction = input('Which direction would you like to go? Up is 1, Right is 2, Down is 3, and Left is 4: ')\n",
    "    opening = (int(row)-1, int(col)-1, int(direction)-1)\n",
    "    order = input('How do you want to order the tiles? If you\\'re using a tile on the board, ignore it and enter the next tile on your own rack. Enter the order as a series of numbers from 1 to 7 with no spaces. Remember that you are starting from the chosen spot and placing in the chosen direction.')\n",
    "    tile_indices = list()\n",
    "    for i in order:\n",
    "        tile_indices.append(int(i)-1)\n",
    "    add_word(player, playerboard, opening, tile_indices)\n",
    "    show_board(playerboard)"
   ]
  },
  {
   "cell_type": "code",
   "execution_count": 20,
   "metadata": {},
   "outputs": [
    {
     "name": "stdout",
     "output_type": "stream",
     "text": [
      "What is Player 1's name?\n",
      "Comp\n",
      "What is Player 2's name?\n",
      "Human\n"
     ]
    },
    {
     "ename": "TypeError",
     "evalue": "'Board' object is not subscriptable",
     "output_type": "error",
     "traceback": [
      "\u001b[1;31m---------------------------------------------------------------------------\u001b[0m",
      "\u001b[1;31mTypeError\u001b[0m                                 Traceback (most recent call last)",
      "\u001b[1;32m<ipython-input-20-ca61ed1155b1>\u001b[0m in \u001b[0;36m<module>\u001b[1;34m\u001b[0m\n\u001b[0;32m      3\u001b[0m     \u001b[0mplayer\u001b[0m\u001b[1;33m.\u001b[0m\u001b[0mrefill\u001b[0m\u001b[1;33m(\u001b[0m\u001b[0mtestboard\u001b[0m\u001b[1;33m)\u001b[0m\u001b[1;33m\u001b[0m\u001b[1;33m\u001b[0m\u001b[0m\n\u001b[0;32m      4\u001b[0m \u001b[1;32mwhile\u001b[0m \u001b[0mtestboard\u001b[0m\u001b[1;33m.\u001b[0m\u001b[0mpool\u001b[0m\u001b[1;33m:\u001b[0m\u001b[1;33m\u001b[0m\u001b[1;33m\u001b[0m\u001b[0m\n\u001b[1;32m----> 5\u001b[1;33m     \u001b[0mcompmove\u001b[0m\u001b[1;33m(\u001b[0m\u001b[0mtestboard\u001b[0m\u001b[1;33m,\u001b[0m\u001b[0mtestboard\u001b[0m\u001b[1;33m.\u001b[0m\u001b[0mplayers\u001b[0m\u001b[1;33m[\u001b[0m\u001b[1;34m'Comp'\u001b[0m\u001b[1;33m]\u001b[0m\u001b[1;33m)\u001b[0m\u001b[1;33m\u001b[0m\u001b[1;33m\u001b[0m\u001b[0m\n\u001b[0m\u001b[0;32m      6\u001b[0m     \u001b[0mplayermove\u001b[0m\u001b[1;33m(\u001b[0m\u001b[0mtestboard\u001b[0m\u001b[1;33m,\u001b[0m\u001b[0mtestboard\u001b[0m\u001b[1;33m.\u001b[0m\u001b[0mplayers\u001b[0m\u001b[1;33m[\u001b[0m\u001b[1;34m'Human'\u001b[0m\u001b[1;33m]\u001b[0m\u001b[1;33m)\u001b[0m\u001b[1;33m\u001b[0m\u001b[1;33m\u001b[0m\u001b[0m\n",
      "\u001b[1;32m<ipython-input-19-07e7a986a591>\u001b[0m in \u001b[0;36mcompmove\u001b[1;34m(playerboard, player)\u001b[0m\n\u001b[0;32m      1\u001b[0m \u001b[1;32mdef\u001b[0m \u001b[0mcompmove\u001b[0m\u001b[1;33m(\u001b[0m\u001b[0mplayerboard\u001b[0m\u001b[1;33m,\u001b[0m \u001b[0mplayer\u001b[0m\u001b[1;33m)\u001b[0m\u001b[1;33m:\u001b[0m\u001b[1;33m\u001b[0m\u001b[1;33m\u001b[0m\u001b[0m\n\u001b[0;32m      2\u001b[0m     \u001b[1;31m# some issue with referencing moves\u001b[0m\u001b[1;33m\u001b[0m\u001b[1;33m\u001b[0m\u001b[1;33m\u001b[0m\u001b[0m\n\u001b[1;32m----> 3\u001b[1;33m     \u001b[0msurro\u001b[0m \u001b[1;33m=\u001b[0m \u001b[0mfind_moves\u001b[0m\u001b[1;33m(\u001b[0m\u001b[0mplayerboard\u001b[0m\u001b[1;33m,\u001b[0m\u001b[0mfind_openings\u001b[0m\u001b[1;33m(\u001b[0m\u001b[0mplayerboard\u001b[0m\u001b[1;33m)\u001b[0m\u001b[1;33m,\u001b[0m\u001b[0mplayer\u001b[0m\u001b[1;33m.\u001b[0m\u001b[0mrack\u001b[0m\u001b[1;33m)\u001b[0m\u001b[1;33m\u001b[0m\u001b[1;33m\u001b[0m\u001b[0m\n\u001b[0m\u001b[0;32m      4\u001b[0m     \u001b[0mmoves\u001b[0m \u001b[1;33m=\u001b[0m \u001b[0msurro\u001b[0m\u001b[1;33m\u001b[0m\u001b[1;33m\u001b[0m\u001b[0m\n\u001b[0;32m      5\u001b[0m     \u001b[0mmove_scores\u001b[0m \u001b[1;33m=\u001b[0m \u001b[0mnp\u001b[0m\u001b[1;33m.\u001b[0m\u001b[0mzeros\u001b[0m\u001b[1;33m(\u001b[0m\u001b[1;33m(\u001b[0m\u001b[0mlen\u001b[0m\u001b[1;33m(\u001b[0m\u001b[0mmoves\u001b[0m\u001b[1;33m)\u001b[0m\u001b[1;33m)\u001b[0m\u001b[1;33m)\u001b[0m\u001b[1;33m\u001b[0m\u001b[1;33m\u001b[0m\u001b[0m\n",
      "\u001b[1;32m<ipython-input-12-ae9c5556bb65>\u001b[0m in \u001b[0;36mfind_moves\u001b[1;34m(find_board, openings, tiles)\u001b[0m\n\u001b[0;32m      4\u001b[0m         \u001b[0mi\u001b[0m\u001b[1;33m,\u001b[0m\u001b[0mj\u001b[0m\u001b[1;33m,\u001b[0m\u001b[0md\u001b[0m \u001b[1;33m=\u001b[0m \u001b[0mopening\u001b[0m\u001b[1;33m\u001b[0m\u001b[1;33m\u001b[0m\u001b[0m\n\u001b[0;32m      5\u001b[0m         \u001b[0mboardword\u001b[0m \u001b[1;33m=\u001b[0m \u001b[0mreadback\u001b[0m\u001b[1;33m(\u001b[0m\u001b[0mfind_board\u001b[0m\u001b[1;33m,\u001b[0m\u001b[0mopening\u001b[0m\u001b[1;33m)\u001b[0m\u001b[1;33m\u001b[0m\u001b[1;33m\u001b[0m\u001b[0m\n\u001b[1;32m----> 6\u001b[1;33m         \u001b[0mboardword\u001b[0m \u001b[1;33m=\u001b[0m \u001b[0mreadforward\u001b[0m\u001b[1;33m(\u001b[0m\u001b[0mfind_board\u001b[0m\u001b[1;33m,\u001b[0m\u001b[0mopening\u001b[0m\u001b[1;33m)\u001b[0m\u001b[1;33m\u001b[0m\u001b[1;33m\u001b[0m\u001b[0m\n\u001b[0m\u001b[0;32m      7\u001b[0m         \u001b[1;32mif\u001b[0m \u001b[0md\u001b[0m\u001b[1;33m==\u001b[0m\u001b[1;36m1\u001b[0m \u001b[1;32mor\u001b[0m \u001b[0md\u001b[0m\u001b[1;33m==\u001b[0m\u001b[1;36m2\u001b[0m\u001b[1;33m:\u001b[0m\u001b[1;33m\u001b[0m\u001b[1;33m\u001b[0m\u001b[0m\n\u001b[0;32m      8\u001b[0m             \u001b[0mcheck\u001b[0m \u001b[1;33m=\u001b[0m \u001b[0mword_lengths\u001b[0m\u001b[1;33m\u001b[0m\u001b[1;33m\u001b[0m\u001b[0m\n",
      "\u001b[1;32m<ipython-input-14-0e5b23a2bd69>\u001b[0m in \u001b[0;36mreadforward\u001b[1;34m(read_board, opening)\u001b[0m\n\u001b[0;32m     21\u001b[0m     \u001b[0mi\u001b[0m\u001b[1;33m,\u001b[0m\u001b[0mj\u001b[0m \u001b[1;33m=\u001b[0m \u001b[0mdirections_dict\u001b[0m\u001b[1;33m[\u001b[0m\u001b[0md\u001b[0m\u001b[1;33m]\u001b[0m\u001b[1;33m(\u001b[0m\u001b[0mi\u001b[0m\u001b[1;33m,\u001b[0m\u001b[0mj\u001b[0m\u001b[1;33m)\u001b[0m\u001b[1;33m\u001b[0m\u001b[1;33m\u001b[0m\u001b[0m\n\u001b[0;32m     22\u001b[0m     \u001b[1;32mwhile\u001b[0m \u001b[0mi\u001b[0m \u001b[1;32min\u001b[0m \u001b[0mrange\u001b[0m\u001b[1;33m(\u001b[0m\u001b[1;36m0\u001b[0m\u001b[1;33m,\u001b[0m\u001b[1;36m15\u001b[0m\u001b[1;33m)\u001b[0m \u001b[1;32mand\u001b[0m \u001b[0mj\u001b[0m \u001b[1;32min\u001b[0m \u001b[0mrange\u001b[0m\u001b[1;33m(\u001b[0m\u001b[1;36m0\u001b[0m\u001b[1;33m,\u001b[0m\u001b[1;36m15\u001b[0m\u001b[1;33m)\u001b[0m\u001b[1;33m:\u001b[0m\u001b[1;33m\u001b[0m\u001b[1;33m\u001b[0m\u001b[0m\n\u001b[1;32m---> 23\u001b[1;33m         \u001b[0mreadword\u001b[0m\u001b[1;33m.\u001b[0m\u001b[0mappend\u001b[0m\u001b[1;33m(\u001b[0m\u001b[0mread_board\u001b[0m\u001b[1;33m.\u001b[0m\u001b[0mid_dict\u001b[0m\u001b[1;33m[\u001b[0m\u001b[0mread_board\u001b[0m\u001b[1;33m[\u001b[0m\u001b[0mi\u001b[0m\u001b[1;33m,\u001b[0m\u001b[0mj\u001b[0m\u001b[1;33m]\u001b[0m\u001b[1;33m]\u001b[0m\u001b[1;33m.\u001b[0m\u001b[0mletter\u001b[0m\u001b[1;33m)\u001b[0m\u001b[1;33m\u001b[0m\u001b[1;33m\u001b[0m\u001b[0m\n\u001b[0m\u001b[0;32m     24\u001b[0m         \u001b[0mi\u001b[0m\u001b[1;33m,\u001b[0m\u001b[0mj\u001b[0m \u001b[1;33m=\u001b[0m \u001b[0mdirections_dict\u001b[0m\u001b[1;33m[\u001b[0m\u001b[0md\u001b[0m\u001b[1;33m]\u001b[0m\u001b[1;33m(\u001b[0m\u001b[0mi\u001b[0m\u001b[1;33m,\u001b[0m\u001b[0mj\u001b[0m\u001b[1;33m)\u001b[0m\u001b[1;33m\u001b[0m\u001b[1;33m\u001b[0m\u001b[0m\n\u001b[0;32m     25\u001b[0m     \u001b[1;32mreturn\u001b[0m \u001b[0mforword\u001b[0m\u001b[1;33m\u001b[0m\u001b[1;33m\u001b[0m\u001b[0m\n",
      "\u001b[1;31mTypeError\u001b[0m: 'Board' object is not subscriptable"
     ]
    }
   ],
   "source": [
    "testboard = Board(2)\n",
    "for player in testboard.players.values():\n",
    "    player.refill(testboard)\n",
    "while testboard.pool:\n",
    "    compmove(testboard,testboard.players['Comp'])\n",
    "    playermove(testboard,testboard.players['Human'])"
   ]
  },
  {
   "cell_type": "code",
   "execution_count": 208,
   "metadata": {},
   "outputs": [],
   "source": [
    "def funcadd(item, dictionary):\n",
    "    dictionary[item] = item"
   ]
  },
  {
   "cell_type": "code",
   "execution_count": 210,
   "metadata": {},
   "outputs": [
    {
     "data": {
      "text/plain": [
       "['a', 'b']"
      ]
     },
     "execution_count": 210,
     "metadata": {},
     "output_type": "execute_result"
    }
   ],
   "source": [
    "delta = ['a','b','c']\n",
    "delta = delta[:len(delta)-1]\n",
    "delta"
   ]
  },
  {
   "cell_type": "code",
   "execution_count": 214,
   "metadata": {},
   "outputs": [
    {
     "data": {
      "text/plain": [
       "0"
      ]
     },
     "execution_count": 214,
     "metadata": {},
     "output_type": "execute_result"
    }
   ],
   "source": [
    "n = 0\n",
    "for i in []:\n",
    "    n+=1\n",
    "n"
   ]
  },
  {
   "cell_type": "code",
   "execution_count": null,
   "metadata": {},
   "outputs": [],
   "source": []
  },
  {
   "cell_type": "code",
   "execution_count": 161,
   "metadata": {},
   "outputs": [],
   "source": []
  },
  {
   "cell_type": "code",
   "execution_count": 159,
   "metadata": {},
   "outputs": [
    {
     "data": {
      "text/plain": [
       "3619"
      ]
     },
     "execution_count": 159,
     "metadata": {},
     "output_type": "execute_result"
    }
   ],
   "source": []
  },
  {
   "cell_type": "code",
   "execution_count": 160,
   "metadata": {},
   "outputs": [
    {
     "data": {
      "text/plain": [
       "3619"
      ]
     },
     "execution_count": 160,
     "metadata": {},
     "output_type": "execute_result"
    }
   ],
   "source": [
    "225*4*3619"
   ]
  },
  {
   "cell_type": "code",
   "execution_count": 219,
   "metadata": {},
   "outputs": [],
   "source": []
  },
  {
   "cell_type": "code",
   "execution_count": null,
   "metadata": {},
   "outputs": [],
   "source": []
  }
 ],
 "metadata": {
  "kernelspec": {
   "display_name": "Python 3",
   "language": "python",
   "name": "python3"
  },
  "language_info": {
   "codemirror_mode": {
    "name": "ipython",
    "version": 3
   },
   "file_extension": ".py",
   "mimetype": "text/x-python",
   "name": "python",
   "nbconvert_exporter": "python",
   "pygments_lexer": "ipython3",
   "version": "3.7.1"
  }
 },
 "nbformat": 4,
 "nbformat_minor": 2
}
